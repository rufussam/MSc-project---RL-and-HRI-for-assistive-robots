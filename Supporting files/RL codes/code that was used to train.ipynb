{
 "cells": [
  {
   "cell_type": "code",
   "execution_count": 1,
   "metadata": {
    "id": "ilW-3oyzVVJi",
    "pycharm": {
     "name": "#%%\n"
    }
   },
   "outputs": [],
   "source": [
    "import gym \n",
    "from gym import Env\n",
    "from gym.spaces import Discrete, Box, Dict, Tuple, MultiBinary, MultiDiscrete \n",
    "import numpy as np\n",
    "import random\n",
    "import os\n",
    "from stable_baselines3 import PPO, DQN\n",
    "from stable_baselines3.common.vec_env import VecFrameStack\n",
    "from stable_baselines3.common.evaluation import evaluate_policy"
   ]
  },
  {
   "cell_type": "code",
   "execution_count": 1,
   "metadata": {
    "id": "2VKTTrlaUDB-",
    "pycharm": {
     "name": "#%%\n"
    }
   },
   "outputs": [
    {
     "name": "stdout",
     "output_type": "stream",
     "text": [
      "Collecting stable-baselines3[extra]\n",
      "  Using cached stable_baselines3-1.6.0-py3-none-any.whl (177 kB)\n",
      "Requirement already satisfied: cloudpickle in c:\\users\\rufus sam a\\anaconda3\\lib\\site-packages (from stable-baselines3[extra]) (2.0.0)\n",
      "Requirement already satisfied: matplotlib in c:\\users\\rufus sam a\\anaconda3\\lib\\site-packages (from stable-baselines3[extra]) (3.5.1)\n",
      "Collecting torch>=1.11\n",
      "  Using cached torch-1.12.0-cp39-cp39-win_amd64.whl (161.8 MB)\n",
      "Requirement already satisfied: numpy in c:\\users\\rufus sam a\\anaconda3\\lib\\site-packages (from stable-baselines3[extra]) (1.21.5)\n",
      "Collecting gym==0.21\n",
      "  Using cached gym-0.21.0-py3-none-any.whl\n",
      "Requirement already satisfied: pandas in c:\\users\\rufus sam a\\anaconda3\\lib\\site-packages (from stable-baselines3[extra]) (1.4.2)\n",
      "Requirement already satisfied: psutil in c:\\users\\rufus sam a\\anaconda3\\lib\\site-packages (from stable-baselines3[extra]) (5.8.0)\n",
      "Collecting autorom[accept-rom-license]~=0.4.2\n",
      "  Using cached AutoROM-0.4.2-py3-none-any.whl (16 kB)\n",
      "Requirement already satisfied: protobuf~=3.19.0 in c:\\users\\rufus sam a\\anaconda3\\lib\\site-packages (from stable-baselines3[extra]) (3.19.1)\n",
      "Collecting ale-py==0.7.4\n",
      "  Using cached ale_py-0.7.4-cp39-cp39-win_amd64.whl (904 kB)\n",
      "Collecting tensorboard>=2.2.0\n",
      "  Using cached tensorboard-2.9.1-py3-none-any.whl (5.8 MB)\n",
      "Collecting opencv-python\n",
      "  Using cached opencv_python-4.6.0.66-cp36-abi3-win_amd64.whl (35.6 MB)\n",
      "Requirement already satisfied: pillow in c:\\users\\rufus sam a\\anaconda3\\lib\\site-packages (from stable-baselines3[extra]) (9.0.1)\n",
      "Collecting importlib-resources\n",
      "  Using cached importlib_resources-5.9.0-py3-none-any.whl (33 kB)\n",
      "Requirement already satisfied: importlib-metadata>=4.10.0 in c:\\users\\rufus sam a\\anaconda3\\lib\\site-packages (from ale-py==0.7.4->stable-baselines3[extra]) (4.11.3)\n",
      "Requirement already satisfied: click in c:\\users\\rufus sam a\\anaconda3\\lib\\site-packages (from autorom[accept-rom-license]~=0.4.2->stable-baselines3[extra]) (8.0.4)\n",
      "Requirement already satisfied: tqdm in c:\\users\\rufus sam a\\anaconda3\\lib\\site-packages (from autorom[accept-rom-license]~=0.4.2->stable-baselines3[extra]) (4.64.0)\n",
      "Requirement already satisfied: requests in c:\\users\\rufus sam a\\anaconda3\\lib\\site-packages (from autorom[accept-rom-license]~=0.4.2->stable-baselines3[extra]) (2.27.1)\n",
      "Collecting AutoROM.accept-rom-license\n",
      "  Using cached AutoROM.accept_rom_license-0.4.2-py3-none-any.whl\n",
      "Requirement already satisfied: zipp>=0.5 in c:\\users\\rufus sam a\\anaconda3\\lib\\site-packages (from importlib-metadata>=4.10.0->ale-py==0.7.4->stable-baselines3[extra]) (3.7.0)\n",
      "Collecting absl-py>=0.4\n",
      "  Using cached absl_py-1.2.0-py3-none-any.whl (123 kB)\n",
      "Requirement already satisfied: grpcio>=1.24.3 in c:\\users\\rufus sam a\\anaconda3\\lib\\site-packages (from tensorboard>=2.2.0->stable-baselines3[extra]) (1.42.0)\n",
      "Collecting tensorboard-plugin-wit>=1.6.0\n",
      "  Using cached tensorboard_plugin_wit-1.8.1-py3-none-any.whl (781 kB)\n",
      "Requirement already satisfied: google-auth<3,>=1.6.3 in c:\\users\\rufus sam a\\anaconda3\\lib\\site-packages (from tensorboard>=2.2.0->stable-baselines3[extra]) (1.33.0)\n",
      "Requirement already satisfied: markdown>=2.6.8 in c:\\users\\rufus sam a\\anaconda3\\lib\\site-packages (from tensorboard>=2.2.0->stable-baselines3[extra]) (3.3.4)\n",
      "Collecting google-auth-oauthlib<0.5,>=0.4.1\n",
      "  Using cached google_auth_oauthlib-0.4.6-py2.py3-none-any.whl (18 kB)\n",
      "Requirement already satisfied: wheel>=0.26 in c:\\users\\rufus sam a\\anaconda3\\lib\\site-packages (from tensorboard>=2.2.0->stable-baselines3[extra]) (0.37.1)\n",
      "Requirement already satisfied: setuptools>=41.0.0 in c:\\users\\rufus sam a\\anaconda3\\lib\\site-packages (from tensorboard>=2.2.0->stable-baselines3[extra]) (61.2.0)\n",
      "Requirement already satisfied: werkzeug>=1.0.1 in c:\\users\\rufus sam a\\anaconda3\\lib\\site-packages (from tensorboard>=2.2.0->stable-baselines3[extra]) (2.0.3)\n",
      "Collecting tensorboard-data-server<0.7.0,>=0.6.0\n",
      "  Using cached tensorboard_data_server-0.6.1-py3-none-any.whl (2.4 kB)\n",
      "Requirement already satisfied: six>=1.9.0 in c:\\users\\rufus sam a\\anaconda3\\lib\\site-packages (from google-auth<3,>=1.6.3->tensorboard>=2.2.0->stable-baselines3[extra]) (1.16.0)\n",
      "Requirement already satisfied: cachetools<5.0,>=2.0.0 in c:\\users\\rufus sam a\\anaconda3\\lib\\site-packages (from google-auth<3,>=1.6.3->tensorboard>=2.2.0->stable-baselines3[extra]) (4.2.2)\n",
      "Requirement already satisfied: pyasn1-modules>=0.2.1 in c:\\users\\rufus sam a\\anaconda3\\lib\\site-packages (from google-auth<3,>=1.6.3->tensorboard>=2.2.0->stable-baselines3[extra]) (0.2.8)\n",
      "Requirement already satisfied: rsa<5,>=3.1.4 in c:\\users\\rufus sam a\\anaconda3\\lib\\site-packages (from google-auth<3,>=1.6.3->tensorboard>=2.2.0->stable-baselines3[extra]) (4.7.2)\n",
      "Collecting requests-oauthlib>=0.7.0\n",
      "  Using cached requests_oauthlib-1.3.1-py2.py3-none-any.whl (23 kB)\n",
      "Requirement already satisfied: pyasn1<0.5.0,>=0.4.6 in c:\\users\\rufus sam a\\anaconda3\\lib\\site-packages (from pyasn1-modules>=0.2.1->google-auth<3,>=1.6.3->tensorboard>=2.2.0->stable-baselines3[extra]) (0.4.8)\n",
      "Requirement already satisfied: idna<4,>=2.5 in c:\\users\\rufus sam a\\anaconda3\\lib\\site-packages (from requests->autorom[accept-rom-license]~=0.4.2->stable-baselines3[extra]) (3.3)\n",
      "Requirement already satisfied: charset-normalizer~=2.0.0 in c:\\users\\rufus sam a\\anaconda3\\lib\\site-packages (from requests->autorom[accept-rom-license]~=0.4.2->stable-baselines3[extra]) (2.0.4)\n",
      "Requirement already satisfied: urllib3<1.27,>=1.21.1 in c:\\users\\rufus sam a\\anaconda3\\lib\\site-packages (from requests->autorom[accept-rom-license]~=0.4.2->stable-baselines3[extra]) (1.26.9)\n",
      "Requirement already satisfied: certifi>=2017.4.17 in c:\\users\\rufus sam a\\anaconda3\\lib\\site-packages (from requests->autorom[accept-rom-license]~=0.4.2->stable-baselines3[extra]) (2021.10.8)\n",
      "Collecting oauthlib>=3.0.0\n",
      "  Using cached oauthlib-3.2.0-py3-none-any.whl (151 kB)\n",
      "Requirement already satisfied: typing-extensions in c:\\users\\rufus sam a\\anaconda3\\lib\\site-packages (from torch>=1.11->stable-baselines3[extra]) (4.1.1)\n",
      "Requirement already satisfied: colorama in c:\\users\\rufus sam a\\anaconda3\\lib\\site-packages (from click->autorom[accept-rom-license]~=0.4.2->stable-baselines3[extra]) (0.4.4)\n",
      "Requirement already satisfied: kiwisolver>=1.0.1 in c:\\users\\rufus sam a\\anaconda3\\lib\\site-packages (from matplotlib->stable-baselines3[extra]) (1.3.2)\n",
      "Requirement already satisfied: python-dateutil>=2.7 in c:\\users\\rufus sam a\\anaconda3\\lib\\site-packages (from matplotlib->stable-baselines3[extra]) (2.8.2)\n",
      "Requirement already satisfied: pyparsing>=2.2.1 in c:\\users\\rufus sam a\\anaconda3\\lib\\site-packages (from matplotlib->stable-baselines3[extra]) (3.0.4)\n",
      "Requirement already satisfied: packaging>=20.0 in c:\\users\\rufus sam a\\anaconda3\\lib\\site-packages (from matplotlib->stable-baselines3[extra]) (21.3)\n",
      "Requirement already satisfied: fonttools>=4.22.0 in c:\\users\\rufus sam a\\anaconda3\\lib\\site-packages (from matplotlib->stable-baselines3[extra]) (4.25.0)\n",
      "Requirement already satisfied: cycler>=0.10 in c:\\users\\rufus sam a\\anaconda3\\lib\\site-packages (from matplotlib->stable-baselines3[extra]) (0.11.0)\n",
      "Requirement already satisfied: pytz>=2020.1 in c:\\users\\rufus sam a\\anaconda3\\lib\\site-packages (from pandas->stable-baselines3[extra]) (2021.3)\n",
      "Installing collected packages: oauthlib, requests-oauthlib, torch, tensorboard-plugin-wit, tensorboard-data-server, importlib-resources, gym, google-auth-oauthlib, AutoROM.accept-rom-license, autorom, absl-py, tensorboard, stable-baselines3, opencv-python, ale-py\n",
      "Successfully installed AutoROM.accept-rom-license-0.4.2 absl-py-1.2.0 ale-py-0.7.4 autorom-0.4.2 google-auth-oauthlib-0.4.6 gym-0.21.0 importlib-resources-5.9.0 oauthlib-3.2.0 opencv-python-4.6.0.66 requests-oauthlib-1.3.1 stable-baselines3-1.6.0 tensorboard-2.9.1 tensorboard-data-server-0.6.1 tensorboard-plugin-wit-1.8.1 torch-1.12.0\n"
     ]
    }
   ],
   "source": [
    "!pip install stable-baselines3[extra]"
   ]
  },
  {
   "cell_type": "code",
   "execution_count": 14,
   "metadata": {
    "id": "m2iUaMv7VjU7",
    "pycharm": {
     "name": "#%%\n"
    }
   },
   "outputs": [],
   "source": [
    "result = 0\n",
    "class obj_guess(Env):\n",
    "    def __init__(self):\n",
    "        self.action_space = Discrete(5) #4 states->0-start state 1,2,3-Objects\n",
    "        self.observation_space = Box(low=0, high=5, shape=(1,)) # (direction of robot towards the object) co-ordinates: game related\n",
    "        #self.observation_space = Discrete(4)\n",
    "        self.state = 0\n",
    "        self.no_obj = 5\n",
    "        #self.user_obj = random.randint(1,3)\n",
    "        self.p_counter = 0\n",
    "        self.n_counter = 0\n",
    "        self.done_dup = False\n",
    "        \n",
    "        \n",
    "    def step(self, action):\n",
    "        global result\n",
    "        if self.no_obj==5:\n",
    "          self.user_obj = random.randint(1,5)\n",
    "          self.user_obj = random.randint(1,5)\n",
    "        self.state = action+1 \n",
    "        print(\"target=\" + str(self.user_obj))\n",
    "        print(\"Robot guess=\" + str(self.state))\n",
    "        #result = self.state\n",
    "        #print(\"result=\" + str(result))\n",
    "        \n",
    "        if self.user_obj==self.state:\n",
    "           compare='yes'\n",
    "        else:\n",
    "           compare='No'\n",
    "\n",
    "        #Human_input = input(\"Is this correct \")\n",
    "        if compare == 'yes':\n",
    "            self.p_counter +=1\n",
    "            reward = self.p_counter*5\n",
    "            self.done_dup = True\n",
    "            print(\"Found successfully\")\n",
    "        else: \n",
    "            self.n_counter -=1\n",
    "            reward = self.n_counter*10\n",
    "        self.no_obj -= 1 #no of chances is equal to no. of objects\n",
    "        if self.no_obj == 0 or self.done_dup==True: \n",
    "            done = True\n",
    "        else:    \n",
    "            done = False\n",
    "        info = {}\n",
    "        \n",
    "        return self.state, reward, done, info\n",
    "\n",
    "    def render(self):\n",
    "        # Implement viz\n",
    "        pass\n",
    "    \n",
    "    def reset(self):\n",
    "        self.state = 0\n",
    "        self.no_obj = 5\n",
    "        self.p_counter = 0\n",
    "        self.n_counter = 0\n",
    "        self.done_dup = False\n",
    "        return self.state "
   ]
  },
  {
   "cell_type": "code",
   "execution_count": 16,
   "metadata": {
    "id": "4MvHLY-IWJNi",
    "pycharm": {
     "name": "#%%\n"
    }
   },
   "outputs": [],
   "source": [
    "env = obj_guess()"
   ]
  },
  {
   "cell_type": "code",
   "execution_count": 5,
   "metadata": {
    "colab": {
     "base_uri": "https://localhost:8080/"
    },
    "id": "z_aN1sLiKBFi",
    "outputId": "0b4d8405-9324-4773-d434-1c6e84632675",
    "pycharm": {
     "name": "#%%\n"
    }
   },
   "outputs": [
    {
     "data": {
      "text/plain": [
       "array([2.6798627], dtype=float32)"
      ]
     },
     "execution_count": 5,
     "metadata": {},
     "output_type": "execute_result"
    }
   ],
   "source": [
    "env.observation_space.sample()"
   ]
  },
  {
   "cell_type": "code",
   "execution_count": 16,
   "metadata": {
    "colab": {
     "base_uri": "https://localhost:8080/"
    },
    "id": "wsWHnQGTevkG",
    "outputId": "0313c83d-a365-464a-c824-a0c7cce45c9b",
    "pycharm": {
     "name": "#%%\n"
    }
   },
   "outputs": [
    {
     "name": "stdout",
     "output_type": "stream",
     "text": [
      "target=3\n",
      "Robot guess=1\n",
      "target=3\n",
      "Robot guess=3\n",
      "Found successfully\n",
      "Episode:1 Score:-5\n",
      "-------\n",
      "target=2\n",
      "Robot guess=4\n",
      "target=2\n",
      "Robot guess=1\n",
      "target=2\n",
      "Robot guess=1\n",
      "target=2\n",
      "Robot guess=4\n",
      "target=2\n",
      "Robot guess=5\n",
      "Episode:2 Score:-150\n",
      "-------\n"
     ]
    }
   ],
   "source": [
    "episodes = 2\n",
    "for episode in range(1, episodes+1):\n",
    "    state = env.reset()\n",
    "    done = False\n",
    "    score = 0 \n",
    "    \n",
    "    while not done:\n",
    "        #env.render()\n",
    "        #human = input(\"Enter the object you like\")\n",
    "        action = env.action_space.sample()\n",
    "        n_state, reward, done, info = env.step(action)\n",
    "        score+=reward\n",
    "    print('Episode:{} Score:{}'.format(episode, score))\n",
    "    print('-------')\n",
    "\n"
   ]
  },
  {
   "cell_type": "code",
   "execution_count": 17,
   "metadata": {
    "colab": {
     "base_uri": "https://localhost:8080/"
    },
    "id": "ICHDIZTwU_FM",
    "outputId": "e4a9a3f5-3ee8-46e5-9897-2aa2f2bf43cc",
    "pycharm": {
     "name": "#%%\n"
    }
   },
   "outputs": [
    {
     "name": "stdout",
     "output_type": "stream",
     "text": [
      "Using cpu device\n",
      "Wrapping the env with a `Monitor` wrapper\n",
      "Wrapping the env in a DummyVecEnv.\n"
     ]
    }
   ],
   "source": [
    "log_path = os.path.join('Training', 'Logs')\n",
    "model = PPO('MlpPolicy', env, verbose=1, tensorboard_log=log_path)"
   ]
  },
  {
   "cell_type": "code",
   "execution_count": null,
   "metadata": {
    "id": "vjDQv4F5Vf1B",
    "pycharm": {
     "name": "#%%\n"
    }
   },
   "outputs": [],
   "source": [
    "model.learn(total_timesteps=150000)"
   ]
  },
  {
   "cell_type": "code",
   "execution_count": 18,
   "metadata": {
    "id": "WXgRMdSkWO-2",
    "pycharm": {
     "name": "#%%\n"
    }
   },
   "outputs": [],
   "source": [
    "obj_pick = os.path.join('Training', 'Saved Models', 'obj_pick_PPO')\n",
    "\n"
   ]
  },
  {
   "cell_type": "code",
   "execution_count": 20,
   "metadata": {
    "id": "oLhln93vWgc4",
    "pycharm": {
     "name": "#%%\n"
    }
   },
   "outputs": [],
   "source": [
    "#model.save(r'C:\\Users\\Rufus Sam A\\Downloads\\obj_pick_100000_5obj')"
   ]
  },
  {
   "cell_type": "code",
   "execution_count": 19,
   "metadata": {
    "colab": {
     "base_uri": "https://localhost:8080/"
    },
    "id": "GsuaXPatWnja",
    "outputId": "6f90538c-a3fb-4974-c6af-6444474848d6",
    "pycharm": {
     "name": "#%%\n"
    }
   },
   "outputs": [
    {
     "name": "stdout",
     "output_type": "stream",
     "text": [
      "Wrapping the env with a `Monitor` wrapper\n",
      "Wrapping the env in a DummyVecEnv.\n"
     ]
    }
   ],
   "source": [
    "model = PPO.load(r'C:\\Users\\Rufus Sam A\\Downloads\\obj_pick_200000_5obj', env)"
   ]
  },
  {
   "cell_type": "code",
   "execution_count": 31,
   "metadata": {
    "colab": {
     "base_uri": "https://localhost:8080/"
    },
    "id": "fbkUqTaAWuby",
    "outputId": "0a2fd54e-8fdb-4174-9565-90a35cab3b3b",
    "pycharm": {
     "name": "#%%\n"
    },
    "scrolled": true
   },
   "outputs": [
    {
     "name": "stdout",
     "output_type": "stream",
     "text": [
      "target=4\n",
      "Robot guess=3\n",
      "target=4\n",
      "Robot guess=5\n",
      "target=4\n",
      "Robot guess=1\n",
      "target=4\n",
      "Robot guess=4\n",
      "Found successfully\n"
     ]
    },
    {
     "data": {
      "text/plain": [
       "(-55.0, 0.0)"
      ]
     },
     "execution_count": 31,
     "metadata": {},
     "output_type": "execute_result"
    }
   ],
   "source": [
    "evaluate_policy(model, env, n_eval_episodes=1, render=False)"
   ]
  },
  {
   "cell_type": "code",
   "execution_count": 10,
   "metadata": {
    "id": "4Iwq9HHWtqGU",
    "pycharm": {
     "name": "#%%\n"
    }
   },
   "outputs": [],
   "source": [
    "result = 0\n",
    "class obj_guess_test(Env):\n",
    "    def __init__(self):\n",
    "        self.action_space = Discrete(5) #4 states->0-start state 1,2,3-Objects\n",
    "        self.observation_space = Box(low=0, high=5, shape=(1,)) # (direction of robot towards the object) co-ordinates: game related\n",
    "        #self.observation_space = Discrete(4)\n",
    "        self.state = 0\n",
    "        self.no_obj = 5\n",
    "        #self.user_obj = random.randint(1,3)\n",
    "        self.p_counter = 0\n",
    "        self.n_counter = 0\n",
    "        self.done_dup = False\n",
    "        \n",
    "        \n",
    "    def step(self, action):\n",
    "        global result\n",
    "        if self.no_obj==5:\n",
    "          #self.user_obj =  random.randint(1,5)\n",
    "           self.user_obj =  input(\"Enter the number\")\n",
    "        self.state = action+1 \n",
    "        print(self.no_obj)\n",
    "        print(\"target=\" + str(self.user_obj))\n",
    "        print(\"Robot guess=\" + str(self.state))\n",
    "        #result = self.state\n",
    "        #print(\"result=\" + str(result))\n",
    "        '''\n",
    "        if self.user_obj==self.state:\n",
    "           compare='yes'\n",
    "        else:\n",
    "            compare='No'\n",
    "        '''\n",
    "        compare = input(\"Is this correct \")\n",
    "        if compare == 'yes':\n",
    "            self.p_counter +=1\n",
    "            reward = self.p_counter*5\n",
    "            self.done_dup = True\n",
    "            print(\"Found successfully\")\n",
    "        else: \n",
    "            self.n_counter -=1\n",
    "            reward = self.n_counter*10\n",
    "        self.no_obj -= 1 #no of chances is equal to no. of objects\n",
    "        if self.no_obj == 0 or self.done_dup==True: \n",
    "            done = True\n",
    "        else:    \n",
    "            done = False\n",
    "        info = {}\n",
    "        \n",
    "        return self.state, reward, done, info\n",
    "\n",
    "    def render(self):\n",
    "        # Implement viz\n",
    "        pass\n",
    "    \n",
    "    def reset(self):\n",
    "        self.state = 0\n",
    "        self.no_obj = 5\n",
    "        self.p_counter = 0\n",
    "        self.n_counter = 0\n",
    "        self.done_dup = False\n",
    "        return self.state \n",
    "    \n",
    "env_test = obj_guess_test()"
   ]
  }
 ],
 "metadata": {
  "accelerator": "GPU",
  "colab": {
   "collapsed_sections": [],
   "name": "high -ve of diff class of Yes/No of human inputs: Pepper.ipynb",
   "provenance": []
  },
  "gpuClass": "standard",
  "kernelspec": {
   "display_name": "Python 3 (ipykernel)",
   "language": "python",
   "name": "python3"
  },
  "language_info": {
   "codemirror_mode": {
    "name": "ipython",
    "version": 3
   },
   "file_extension": ".py",
   "mimetype": "text/x-python",
   "name": "python",
   "nbconvert_exporter": "python",
   "pygments_lexer": "ipython3",
   "version": "3.9.12"
  }
 },
 "nbformat": 4,
 "nbformat_minor": 1
}
